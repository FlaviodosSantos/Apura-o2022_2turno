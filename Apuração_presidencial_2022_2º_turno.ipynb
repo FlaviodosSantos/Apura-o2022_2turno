{
  "nbformat": 4,
  "nbformat_minor": 0,
  "metadata": {
    "colab": {
      "provenance": [],
      "authorship_tag": "ABX9TyNubwDNYmx0qTGCEJhCPQ9S"
    },
    "kernelspec": {
      "name": "python3",
      "display_name": "Python 3"
    },
    "language_info": {
      "name": "python"
    }
  },
  "cells": [
    {
      "cell_type": "code",
      "execution_count": null,
      "metadata": {
        "id": "9usS9wxZzmiC"
      },
      "outputs": [],
      "source": [
        "import requests\n",
        "import json\n",
        "import pandas as pd\n",
        "import time\n",
        "import os\n",
        "\n",
        "\n",
        "\n",
        "def imprimir():\n",
        "    data = requests.get(\n",
        "        'https://resultados.tse.jus.br/oficial/ele2022/545/dados-simplificados/br/br-c0001-e000545-r.json')\n",
        "\n",
        "    json_data = json.loads(data.content)\n",
        "\n",
        "    candidato = []\n",
        "    partido = []\n",
        "    votos = []\n",
        "    porcentagem = []\n",
        "\n",
        "    for informacoes in json_data['cand']:\n",
        "\n",
        "        if informacoes['seq'] in ['1', '2', '3', '4']:\n",
        "            candidato.append(informacoes['nm'])\n",
        "            partido.append(informacoes['cc'][0:3])\n",
        "            votos.append(informacoes['vap'])\n",
        "            porcentagem.append(informacoes['pvap'] + ' %')\n",
        "\n",
        "    df_eleicao = pd.DataFrame(list(zip(candidato, partido, votos, porcentagem)), columns=[\n",
        "        'Candidato', 'Partido', 'Nº de Votos', 'Porcentagem'\n",
        "    ])\n",
        "\n",
        "    print(df_eleicao)\n",
        "    time.sleep(5)\n",
        "    os.system('clear')\n",
        "    imprimir()\n",
        "\n",
        "imprimir()"
      ]
    }
  ]
}